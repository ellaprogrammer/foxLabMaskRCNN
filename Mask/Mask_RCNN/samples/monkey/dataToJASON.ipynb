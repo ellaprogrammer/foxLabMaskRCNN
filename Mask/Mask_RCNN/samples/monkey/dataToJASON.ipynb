{
 "cells": [
  {
   "cell_type": "markdown",
   "metadata": {},
   "source": [
    "Change Monkey annotation dataformat to JSON"
   ]
  },
  {
   "cell_type": "code",
   "execution_count": null,
   "metadata": {
    "collapsed": true
   },
   "outputs": [],
   "source": [
    "#image_id \n",
    "#combine image filename and image size in bytes\n",
    "#file photo.jpg of size 16454 bytes -> image-id photo.jpg16454\n",
    "\n",
    "#fileref: a reference to the local file uploaded by user\n",
    "#base64_img_data: contains either the image URL or image data represented in base64 format\n",
    "#file_attributes: a Map() of image file's attributes/ For ex, image captions can be represented by file attributes as \n",
    "    #Map {'caption': 'a white football flying over a red car'}\n",
    "#regions: an array of ImageRegion() objects\n"
   ]
  },
  {
   "cell_type": "code",
   "execution_count": 23,
   "metadata": {
    "collapsed": true
   },
   "outputs": [],
   "source": [
    "from glob import glob\n",
    "import matplotlib.image as mpimg\n",
    "import matplotlib.patches as patches\n",
    "from os import listdir\n",
    "from os.path import isfile, join\n",
    "import os\n",
    "import sys\n",
    "import json"
   ]
  },
  {
   "cell_type": "code",
   "execution_count": 24,
   "metadata": {},
   "outputs": [
    {
     "name": "stdout",
     "output_type": "stream",
     "text": [
      "/Users/rurikoimai/Desktop/Mask/Mask_RCNN/samples/monkey\r\n"
     ]
    }
   ],
   "source": [
    "!pwd"
   ]
  },
  {
   "cell_type": "code",
   "execution_count": 25,
   "metadata": {},
   "outputs": [
    {
     "name": "stdout",
     "output_type": "stream",
     "text": [
      "{'grooming36DVD_18_34.png333275': {'fileref': '', 'size': 333275, 'filename': 'grooming36DVD_18_34.png', 'base64_img_data': '', 'file_attributes': {}, 'regions': {'0': {'shape_attributes': {'name': 'polygon', 'all_points_x': [394, 394, 467, 467], 'all_points_y': [158, 253, 253, 158]}, 'region_attributes': {'name': 'monkey'}}, '1': {'shape_attributes': {'name': 'polygon', 'all_points_x': [299, 299, 354, 354], 'all_points_y': [149, 276, 276, 149]}, 'region_attributes': {'name': 'monkey'}}}}, 'grooming32DVD_0_04.png341747': {'fileref': '', 'size': 341747, 'filename': 'grooming32DVD_0_04.png', 'base64_img_data': '', 'file_attributes': {}, 'regions': {'0': {'shape_attributes': {'name': 'polygon', 'all_points_x': [290, 290, 362, 362], 'all_points_y': [191, 138, 138, 191]}, 'region_attributes': {'name': 'monkey'}}}}, 'grooming26DVD_20_23.png339132': {'fileref': '', 'size': 339132, 'filename': 'grooming26DVD_20_23.png', 'base64_img_data': '', 'file_attributes': {}, 'regions': {'0': {'shape_attributes': {'name': 'polygon', 'all_points_x': [473, 473, 536, 536], 'all_points_y': [139, 228, 228, 139]}, 'region_attributes': {'name': 'monkey'}}, '1': {'shape_attributes': {'name': 'polygon', 'all_points_x': [233, 233, 306, 306], 'all_points_y': [219, 153, 153, 219]}, 'region_attributes': {'name': 'monkey'}}}}}\n"
     ]
    }
   ],
   "source": [
    "#image_id = file_name + image_size\n",
    "    #grab file_name\n",
    "    #grab image_size\n",
    "heights = []\n",
    "widths = []\n",
    "file_names = []\n",
    "xmins = [] # List of normalized left x coordinates in bounding box (1 per box)\n",
    "xmaxs = [] # List of normalized right x coordinates in bounding box\n",
    "           # (1 per box)\n",
    "ymins = [] # List of normalized top y coordinates in bounding box (1 per box)\n",
    "ymaxs = [] # List of normalized bottom y coordinates in bounding box\n",
    "           # (1 per box)\n",
    "dic = [] \n",
    "diction = {}\n",
    "\n",
    "image_path = ('/Users/rurikoimai/Desktop/Mask/Mask_RCNN/samples/monkey/dataset/val/') \n",
    "roi_files = glob(image_path + '/*.csv')\n",
    "\n",
    "for roi_file in roi_files:\n",
    "    with open(roi_file) as fp:\n",
    "        roi_list = [x.strip().split(',') for x in fp.readlines()] #getting coordinates, xmin,ymin,xmax,ymax\n",
    "    image_file = roi_file[:-4]+'.png'\n",
    "    img = mpimg.imread(image_file)\n",
    "\n",
    "    # get width and height\n",
    "    height = img.shape[0]\n",
    "    width = img.shape[1]\n",
    "\n",
    "    file_name = os.path.basename(roi_file)[:-4]+'.png' #file_name\n",
    "    img_bytes = os.stat(image_file) #image_size in bytes\n",
    "    image_id = str(file_name) + str(img_bytes.st_size) #file_name + image_bytes\n",
    "    REGION = {}\n",
    "    for i in range(len(roi_list)):\n",
    "        dic = {str(i):\n",
    "               {\"shape_attributes\":\n",
    "                {\"name\":\"polygon\",\"all_points_x\":[int(float(roi_list[i][0])),int(float(roi_list[i][0])),int(float(roi_list[i][2])),int(float(roi_list[i][2]))],\"all_points_y\":[int(float(roi_list[i][1])),int(float(roi_list[i][3])),int(float(roi_list[i][3])),int(float(roi_list[i][1]))]},#,\"height\": height,\"width\": width},\n",
    "                \"region_attributes\":{\"name\":\"monkey\"}\n",
    "               }\n",
    "              }\n",
    "        extra = dict(dic)\n",
    "        REGION.update(extra)\n",
    "    KEY = image_id\n",
    "    VALUES2 = dict(fileref=\"\", size=img_bytes.st_size, filename=file_name, base64_img_data=\"\", file_attributes={}, regions=REGION)\n",
    "    diction[KEY] = VALUES2\n",
    "\n",
    "print(diction)"
   ]
  },
  {
   "cell_type": "code",
   "execution_count": 26,
   "metadata": {
    "collapsed": true
   },
   "outputs": [],
   "source": [
    "#outfile = image_path + 'via_region_data.json'\n",
    "with open('via_region_data.json', 'w') as outfile:\n",
    "    json.dump(diction, outfile)"
   ]
  },
  {
   "cell_type": "markdown",
   "metadata": {},
   "source": [
    "Write a function"
   ]
  },
  {
   "cell_type": "code",
   "execution_count": 32,
   "metadata": {
    "collapsed": true
   },
   "outputs": [],
   "source": [
    "def toJSON(image_path):\n",
    "    \n",
    "    dic = [] \n",
    "    diction = {}\n",
    "\n",
    "    roi_files = glob(image_path + '/*.csv')\n",
    "\n",
    "    for roi_file in roi_files:\n",
    "        with open(roi_file) as fp:\n",
    "            roi_list = [x.strip().split(',') for x in fp.readlines()] #getting coordinates, xmin,ymin,xmax,ymax\n",
    "        image_file = roi_file[:-4]+'.png'\n",
    "\n",
    "        width = img.shape[1]\n",
    "\n",
    "        file_name = os.path.basename(roi_file)[:-4]+'.png' #file_name\n",
    "        img_bytes = os.stat(image_file) #image_size in bytes\n",
    "        image_id = str(file_name) + str(img_bytes.st_size) #file_name + image_bytes\n",
    "        REGION = {}\n",
    "        for i in range(len(roi_list)):\n",
    "            dic = {str(i):\n",
    "                   {\"shape_attributes\":\n",
    "                    {\"name\":\"polygon\",\"all_points_x\":[int(float(roi_list[i][0])),int(float(roi_list[i][0])),int(float(roi_list[i][2])),int(float(roi_list[i][2]))],\"all_points_y\":[int(float(roi_list[i][1])),int(float(roi_list[i][3])),int(float(roi_list[i][3])),int(float(roi_list[i][1]))]},#,\"height\": height,\"width\": width},\n",
    "                    \"region_attributes\":{\"name\":\"monkey\"}\n",
    "                   }\n",
    "                  }\n",
    "            extra = dict(dic)\n",
    "            REGION.update(extra)\n",
    "        KEY = image_id\n",
    "        VALUES2 = dict(fileref=\"\", size=img_bytes.st_size, filename=file_name, base64_img_data=\"\", file_attributes={}, regions=REGION)\n",
    "        diction[KEY] = VALUES2\n",
    "\n",
    "    #outfile = image_path + 'via_region_data.json'\n",
    "    with open(os.path.join(image_path + 'via_region_data_whatttttttttttttttt.json'), 'w') as outfile:\n",
    "        json.dump(diction, outfile)"
   ]
  },
  {
   "cell_type": "code",
   "execution_count": 33,
   "metadata": {
    "collapsed": true
   },
   "outputs": [],
   "source": [
    "def main():\n",
    "    for image_dir in ['train', 'val']:\n",
    "        image_path = os.path.join(os.getcwd(), 'dataset/{}/'.format(image_dir))\n",
    "        toJSON(image_path)\n",
    "        \n",
    "main()"
   ]
  },
  {
   "cell_type": "code",
   "execution_count": null,
   "metadata": {
    "collapsed": true
   },
   "outputs": [],
   "source": []
  }
 ],
 "metadata": {
  "kernelspec": {
   "display_name": "Python 3",
   "language": "python",
   "name": "python3"
  },
  "language_info": {
   "codemirror_mode": {
    "name": "ipython",
    "version": 3
   },
   "file_extension": ".py",
   "mimetype": "text/x-python",
   "name": "python",
   "nbconvert_exporter": "python",
   "pygments_lexer": "ipython3",
   "version": "3.6.3"
  }
 },
 "nbformat": 4,
 "nbformat_minor": 2
}
