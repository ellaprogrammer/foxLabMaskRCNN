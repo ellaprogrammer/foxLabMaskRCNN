{
 "cells": [
  {
   "cell_type": "code",
   "execution_count": 1,
   "metadata": {},
   "outputs": [
    {
     "name": "stdout",
     "output_type": "stream",
     "text": [
      "/Users/rurikoimai/Desktop/genomecenter_Upload/frames\r\n"
     ]
    }
   ],
   "source": [
    "!pwd"
   ]
  },
  {
   "cell_type": "code",
   "execution_count": 6,
   "metadata": {
    "collapsed": true
   },
   "outputs": [],
   "source": [
    "import numpy as np\n",
    "import glob as glob\n",
    "import os\n",
    "import random"
   ]
  },
  {
   "cell_type": "code",
   "execution_count": 24,
   "metadata": {
    "collapsed": true
   },
   "outputs": [],
   "source": [
    "image_path = '/Users/rurikoimai/Desktop/Mask/Mask_RCNN/samples/monkey/dataset/val/'\n",
    "img_files = glob.glob(image_path + '/*png')\n",
    "filenames = [os.path.basename(img_file) for img_file in img_files]\n",
    "#print(filenames)\n",
    "\n",
    "file_names = []\n",
    "for img_file in img_files:\n",
    "    file_names.append(os.path.basename(img_file))\n",
    "#print(file_names)\n",
    "\n",
    "file_names.sort()\n",
    "random.seed(230)\n",
    "random.shuffle(file_names) # randomly shuffles the ordering of filenames\n",
    "\n",
    "split1 = int(0.8 * len(file_names))\n",
    "split2 = int(0.9 * len(file_names))\n",
    "train_filenames = file_names[:split1]\n",
    "test_filenames = file_names[split1:split2]\n",
    "val_filenames = file_names[split2:]"
   ]
  },
  {
   "cell_type": "code",
   "execution_count": 182,
   "metadata": {
    "collapsed": true
   },
   "outputs": [],
   "source": [
    "def get_csv(image_path):                                                 \n",
    "    img_files = glob.glob(image_path + '/*csv')\n",
    "    filenames = [os.path.basename(img_file) for img_file in img_files]\n",
    "    filenames.sort()\n",
    "    random.seed(230)\n",
    "    random.shuffle(filenames) # randomly shuffles the ordering of filenames\n",
    "\n",
    "    split1 = int(0.8 * len(filenames))\n",
    "    split2 = int(0.9 * len(filenames))\n",
    "    train_filenames = filenames[:split1]\n",
    "    test_filenames = filenames[split1:split2]\n",
    "    val_filenames = filenames[split2:]\n",
    "\n",
    "    return(train_filenames, test_filenames, val_filenames)"
   ]
  },
  {
   "cell_type": "code",
   "execution_count": 157,
   "metadata": {
    "collapsed": true
   },
   "outputs": [],
   "source": [
    "image_path = '/Users/rurikoimai/Desktop/Mask/Mask_RCNN/samples/monkey/frames/'\n",
    "split_data = get_csv(image_path)\n",
    "\n",
    "train = split_data[0]\n",
    "test = split_data[1]\n",
    "val = split_data[2]\n",
    "\n",
    "img_files = glob.glob(image_path + '/*png') # full image paths\n",
    "filenames = [os.path.basename(img_file) for img_file in img_files] # image file names filename.png\n",
    "\n",
    "for filename in filenames:\n",
    "    print(filename)\n",
    "    for file in train:\n",
    "        #print(file)\n",
    "        base_name = file[:-4]\n",
    "        #print(base_name)\n",
    "        if base_name == filename[:-4]:\n",
    "            #break\n",
    "            os.rename(os.path.join(image_path + filename), os.path.join(image_path, \"train/\", filename))"
   ]
  },
  {
   "cell_type": "code",
   "execution_count": null,
   "metadata": {
    "collapsed": true
   },
   "outputs": [],
   "source": [
    "def get_png(image_path):\n",
    "    img_files = glob.glob(image_path + '/*png') # full image paths\n",
    "    filenames = [os.path.basename(img_file) for img_file in img_files] # image file names filename.png\n",
    "    \n",
    "    split_data = get_csv(image_path)\n",
    "    train = split_data[0]\n",
    "    test = split_data[1]\n",
    "    val = split_data[2]\n",
    "    \n",
    "    for filename in filenames:\n",
    "        #print(filename)\n",
    "        for file in train:\n",
    "            #print(file)\n",
    "            base_name = file[:-4]\n",
    "            #print(base_name)\n",
    "            if base_name == filename[:-4]:\n",
    "                #break\n",
    "                os.rename(os.path.join(image_path + filename), os.path.join(image_path, \"train/\", filename))\n",
    "        for file in test:\n",
    "            base_name = file[:-4]\n",
    "            if base_name == filename[:-4]:\n",
    "                os.rename(os.path.join(image_path + filename), os.path.join(image_path, \"test/\", filename))\n",
    "        for file in val:\n",
    "            base_name = file[:-4]\n",
    "            if base_name == filename[:-4]:\n",
    "                os.rename(os.path.join(image_path + filename), os.path.join(image_path, \"val/\", filename))"
   ]
  },
  {
   "cell_type": "code",
   "execution_count": 187,
   "metadata": {
    "collapsed": true
   },
   "outputs": [],
   "source": [
    "def main():\n",
    "    image_path = '/Users/rurikoimai/Desktop/Mask/Mask_RCNN/samples/monkey/frames/'\n",
    "    split_data = get_csv(image_path)\n",
    "    get_png(image_path)    \n",
    "    train_csv = split_data[0]\n",
    "    test_csv = split_data[1]\n",
    "    val_csv = split_data[2]\n",
    "    \n",
    "    [os.rename(image_path + file, os.path.join(image_path, \"train/\", file)) for file in train_csv]\n",
    "    [os.rename(image_path + file, os.path.join(image_path, \"test/\", file)) for file in test_csv]\n",
    "    [os.rename(image_path + file, os.path.join(image_path, \"val/\", file)) for file in val_csv]"
   ]
  },
  {
   "cell_type": "code",
   "execution_count": 188,
   "metadata": {
    "collapsed": true
   },
   "outputs": [],
   "source": [
    "main()"
   ]
  },
  {
   "cell_type": "markdown",
   "metadata": {},
   "source": [
    "# Condense dem functions"
   ]
  },
  {
   "cell_type": "code",
   "execution_count": 2,
   "metadata": {
    "collapsed": true
   },
   "outputs": [],
   "source": [
    "def get_csv(image_path):   \n",
    "    \"\"\"\n",
    "    input: image_path\n",
    "    out_put: randomly split csv (annotations) dataset into 80% train, 10% test, 10% val \n",
    "    \"\"\"\n",
    "    img_files = glob.glob(image_path + '/*csv')\n",
    "    filenames = [os.path.basename(img_file) for img_file in img_files]\n",
    "    filenames.sort()\n",
    "    random.seed(230)\n",
    "    random.shuffle(filenames) # randomly shuffles the ordering of filenames\n",
    "\n",
    "    split1 = int(0.8 * len(filenames))\n",
    "    split2 = int(0.9 * len(filenames))\n",
    "    train_filenames = filenames[:split1]\n",
    "    test_filenames = filenames[split1:split2]\n",
    "    val_filenames = filenames[split2:]\n",
    "\n",
    "    return(train_filenames, test_filenames, val_filenames)"
   ]
  },
  {
   "cell_type": "code",
   "execution_count": 3,
   "metadata": {
    "collapsed": true
   },
   "outputs": [],
   "source": [
    "def get_png(image_path):\n",
    "    \"\"\"\n",
    "    input: image_path\n",
    "    out_put: if file names match csv files in train, test, or val, move them into their repective files \n",
    "    \"\"\"\n",
    "    img_files = glob.glob(image_path + '/*png') # full image paths\n",
    "    filenames = [os.path.basename(img_file) for img_file in img_files] # image file names filename.png\n",
    "    \n",
    "    split_data = get_csv(image_path)\n",
    "    train = split_data[0]\n",
    "    test = split_data[1]\n",
    "    val = split_data[2]\n",
    "    \n",
    "    # Repeated, so make it more efficient\n",
    "    for filename in filenames:\n",
    "        for file in train:\n",
    "            base_name = file[:-4]\n",
    "            if base_name == filename[:-4]:\n",
    "                os.rename(os.path.join(image_path + filename), os.path.join(image_path, \"train/\", filename))\n",
    "        for file in test:\n",
    "            base_name = file[:-4]\n",
    "            if base_name == filename[:-4]:\n",
    "                os.rename(os.path.join(image_path + filename), os.path.join(image_path, \"test/\", filename))\n",
    "        for file in val:\n",
    "            base_name = file[:-4]\n",
    "            if base_name == filename[:-4]:\n",
    "                os.rename(os.path.join(image_path + filename), os.path.join(image_path, \"val/\", filename))"
   ]
  },
  {
   "cell_type": "code",
   "execution_count": 54,
   "metadata": {},
   "outputs": [],
   "source": [
    "def main():\n",
    "    image_path = '/Users/rurikoimai/Desktop/Mask/Mask_RCNN/samples/monkey/frames/'\n",
    "    split_data = get_csv(image_path)\n",
    "    get_png(image_path)    \n",
    "    train_csv = split_data[0]\n",
    "    test_csv = split_data[1]\n",
    "    val_csv = split_data[2]\n",
    "    \n",
    "    # Repeated, so make it more efficient\n",
    "    [os.rename(image_path + file, os.path.join(image_path, \"train/\", file)) for file in train_csv]\n",
    "    [os.rename(image_path + file, os.path.join(image_path, \"test/\", file)) for file in test_csv]\n",
    "    [os.rename(image_path + file, os.path.join(image_path, \"val/\", file)) for file in val_csv]\n",
    "    \n",
    "    #datas = [train_csv,test_csv,val_csv]\n",
    "    #csv = [csv for csv in datas]\n",
    "    #sets = [\"train/\",\"test/\",\"val/\"]\n",
    "    #for i in csv:\n",
    "    #    print(i)\n",
    "    #for s in sets:\n",
    "        #for c in csv:\n",
    "            #print(s)\n",
    "            #[x for b in a for x in b]\n",
    "            #[os.rename(image_path + file, os.path.join(image_path, \"{}\".format(s), file)) for file in c]"
   ]
  },
  {
   "cell_type": "code",
   "execution_count": 55,
   "metadata": {},
   "outputs": [
    {
     "ename": "FileNotFoundError",
     "evalue": "[Errno 2] No such file or directory: '/Users/rurikoimai/Desktop/Mask/Mask_RCNN/samples/monkey/frames/111517_805AM_44204_1258_14.csv' -> '/Users/rurikoimai/Desktop/Mask/Mask_RCNN/samples/monkey/frames/test/111517_805AM_44204_1258_14.csv'",
     "output_type": "error",
     "traceback": [
      "\u001b[0;31m---------------------------------------------------------------------------\u001b[0m",
      "\u001b[0;31mFileNotFoundError\u001b[0m                         Traceback (most recent call last)",
      "\u001b[0;32m<ipython-input-55-58ca95c5b364>\u001b[0m in \u001b[0;36m<module>\u001b[0;34m()\u001b[0m\n\u001b[0;32m----> 1\u001b[0;31m \u001b[0mmain\u001b[0m\u001b[0;34m(\u001b[0m\u001b[0;34m)\u001b[0m\u001b[0;34m\u001b[0m\u001b[0m\n\u001b[0m",
      "\u001b[0;32m<ipython-input-54-af87fe25e92c>\u001b[0m in \u001b[0;36mmain\u001b[0;34m()\u001b[0m\n\u001b[1;32m     21\u001b[0m             \u001b[0;31m#print(s)\u001b[0m\u001b[0;34m\u001b[0m\u001b[0;34m\u001b[0m\u001b[0m\n\u001b[1;32m     22\u001b[0m             \u001b[0;31m#[x for b in a for x in b]\u001b[0m\u001b[0;34m\u001b[0m\u001b[0;34m\u001b[0m\u001b[0m\n\u001b[0;32m---> 23\u001b[0;31m             \u001b[0;34m[\u001b[0m\u001b[0mos\u001b[0m\u001b[0;34m.\u001b[0m\u001b[0mrename\u001b[0m\u001b[0;34m(\u001b[0m\u001b[0mimage_path\u001b[0m \u001b[0;34m+\u001b[0m \u001b[0mfile\u001b[0m\u001b[0;34m,\u001b[0m \u001b[0mos\u001b[0m\u001b[0;34m.\u001b[0m\u001b[0mpath\u001b[0m\u001b[0;34m.\u001b[0m\u001b[0mjoin\u001b[0m\u001b[0;34m(\u001b[0m\u001b[0mimage_path\u001b[0m\u001b[0;34m,\u001b[0m \u001b[0;34m\"{}\"\u001b[0m\u001b[0;34m.\u001b[0m\u001b[0mformat\u001b[0m\u001b[0;34m(\u001b[0m\u001b[0ms\u001b[0m\u001b[0;34m)\u001b[0m\u001b[0;34m,\u001b[0m \u001b[0mfile\u001b[0m\u001b[0;34m)\u001b[0m\u001b[0;34m)\u001b[0m \u001b[0;32mfor\u001b[0m \u001b[0mfile\u001b[0m \u001b[0;32min\u001b[0m \u001b[0mc\u001b[0m\u001b[0;34m]\u001b[0m\u001b[0;34m\u001b[0m\u001b[0m\n\u001b[0m",
      "\u001b[0;32m<ipython-input-54-af87fe25e92c>\u001b[0m in \u001b[0;36m<listcomp>\u001b[0;34m(.0)\u001b[0m\n\u001b[1;32m     21\u001b[0m             \u001b[0;31m#print(s)\u001b[0m\u001b[0;34m\u001b[0m\u001b[0;34m\u001b[0m\u001b[0m\n\u001b[1;32m     22\u001b[0m             \u001b[0;31m#[x for b in a for x in b]\u001b[0m\u001b[0;34m\u001b[0m\u001b[0;34m\u001b[0m\u001b[0m\n\u001b[0;32m---> 23\u001b[0;31m             \u001b[0;34m[\u001b[0m\u001b[0mos\u001b[0m\u001b[0;34m.\u001b[0m\u001b[0mrename\u001b[0m\u001b[0;34m(\u001b[0m\u001b[0mimage_path\u001b[0m \u001b[0;34m+\u001b[0m \u001b[0mfile\u001b[0m\u001b[0;34m,\u001b[0m \u001b[0mos\u001b[0m\u001b[0;34m.\u001b[0m\u001b[0mpath\u001b[0m\u001b[0;34m.\u001b[0m\u001b[0mjoin\u001b[0m\u001b[0;34m(\u001b[0m\u001b[0mimage_path\u001b[0m\u001b[0;34m,\u001b[0m \u001b[0;34m\"{}\"\u001b[0m\u001b[0;34m.\u001b[0m\u001b[0mformat\u001b[0m\u001b[0;34m(\u001b[0m\u001b[0ms\u001b[0m\u001b[0;34m)\u001b[0m\u001b[0;34m,\u001b[0m \u001b[0mfile\u001b[0m\u001b[0;34m)\u001b[0m\u001b[0;34m)\u001b[0m \u001b[0;32mfor\u001b[0m \u001b[0mfile\u001b[0m \u001b[0;32min\u001b[0m \u001b[0mc\u001b[0m\u001b[0;34m]\u001b[0m\u001b[0;34m\u001b[0m\u001b[0m\n\u001b[0m",
      "\u001b[0;31mFileNotFoundError\u001b[0m: [Errno 2] No such file or directory: '/Users/rurikoimai/Desktop/Mask/Mask_RCNN/samples/monkey/frames/111517_805AM_44204_1258_14.csv' -> '/Users/rurikoimai/Desktop/Mask/Mask_RCNN/samples/monkey/frames/test/111517_805AM_44204_1258_14.csv'"
     ]
    }
   ],
   "source": [
    "main()"
   ]
  },
  {
   "cell_type": "code",
   "execution_count": null,
   "metadata": {
    "collapsed": true
   },
   "outputs": [],
   "source": []
  }
 ],
 "metadata": {
  "kernelspec": {
   "display_name": "Python 3",
   "language": "python",
   "name": "python3"
  },
  "language_info": {
   "codemirror_mode": {
    "name": "ipython",
    "version": 3
   },
   "file_extension": ".py",
   "mimetype": "text/x-python",
   "name": "python",
   "nbconvert_exporter": "python",
   "pygments_lexer": "ipython3",
   "version": "3.6.3"
  }
 },
 "nbformat": 4,
 "nbformat_minor": 2
}
