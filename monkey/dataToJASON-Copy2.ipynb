{
 "cells": [
  {
   "cell_type": "markdown",
   "metadata": {},
   "source": [
    "Change Monkey annotation dataformat to JSON"
   ]
  },
  {
   "cell_type": "code",
   "execution_count": null,
   "metadata": {},
   "outputs": [],
   "source": [
    "#image_id \n",
    "#combine image filename and image size in bytes\n",
    "#file photo.jpg of size 16454 bytes -> image-id photo.jpg16454\n",
    "\n",
    "#fileref: a reference to the local file uploaded by user\n",
    "#base64_img_data: contains either the image URL or image data represented in base64 format\n",
    "#file_attributes: a Map() of image file's attributes/ For ex, image captions can be represented by file attributes as \n",
    "    #Map {'caption': 'a white football flying over a red car'}\n",
    "#regions: an array of ImageRegion() objects\n"
   ]
  },
  {
   "cell_type": "code",
   "execution_count": 5,
   "metadata": {},
   "outputs": [],
   "source": [
    "from glob import glob\n",
    "import matplotlib.image as mpimg\n",
    "import matplotlib.patches as patches\n",
    "from os import listdir\n",
    "from os.path import isfile, join\n",
    "import os\n",
    "import sys\n",
    "import json"
   ]
  },
  {
   "cell_type": "code",
   "execution_count": 6,
   "metadata": {},
   "outputs": [
    {
     "name": "stdout",
     "output_type": "stream",
     "text": [
      "/Users/rurikoimai/Desktop/Mask/Mask_RCNN/samples/monkey\r\n"
     ]
    }
   ],
   "source": [
    "!pwd"
   ]
  },
  {
   "cell_type": "code",
   "execution_count": 24,
   "metadata": {},
   "outputs": [
    {
     "name": "stdout",
     "output_type": "stream",
     "text": [
      "{'grooming36DVD_18_34.png333275': {'fileref': '', 'size': 333275, 'filename': 'grooming36DVD_18_34.png', 'base64_img_data': '', 'file_attributes': {}, 'regions': {'0': {'shape_attributes': {'name': 'polygons', 'x': [394.896129032, 467.267741935], 'y': [158.114193548, 253.432903226], 'height': 458, 'width': 684}, 'region_attributes': {}}, '1': {'shape_attributes': {'name': 'polygons', 'x': [299.577419355, 354.297419355], 'y': [149.288387097, 276.38], 'height': 458, 'width': 684}, 'region_attributes': {}}}}, 'grooming32DVD_0_04.png341747': {'fileref': '', 'size': 341747, 'filename': 'grooming32DVD_0_04.png', 'base64_img_data': '', 'file_attributes': {}, 'regions': {'0': {'shape_attributes': {'name': 'polygons', 'x': [290.751612903, 362.240645161], 'y': [191.652258065, 138.697419355], 'height': 458, 'width': 684}, 'region_attributes': {}}}}, 'grooming26DVD_20_23.png339132': {'fileref': '', 'size': 339132, 'filename': 'grooming26DVD_20_23.png', 'base64_img_data': '', 'file_attributes': {}, 'regions': {'0': {'shape_attributes': {'name': 'polygons', 'x': [473.445806452, 536.991612903], 'y': [139.58, 228.720645161], 'height': 458, 'width': 684}, 'region_attributes': {}}, '1': {'shape_attributes': {'name': 'polygons', 'x': [233.383870968, 306.638064516], 'y': [219.89483871, 153.701290323], 'height': 458, 'width': 684}, 'region_attributes': {}}}}}\n"
     ]
    }
   ],
   "source": [
    "#image_id = file_name + image_size\n",
    "    #grab file_name\n",
    "    #grab image_size\n",
    "heights = []\n",
    "widths = []\n",
    "file_names = []\n",
    "xmins = [] # List of normalized left x coordinates in bounding box (1 per box)\n",
    "xmaxs = [] # List of normalized right x coordinates in bounding box\n",
    "           # (1 per box)\n",
    "ymins = [] # List of normalized top y coordinates in bounding box (1 per box)\n",
    "ymaxs = [] # List of normalized bottom y coordinates in bounding box\n",
    "           # (1 per box)\n",
    "dic = [] \n",
    "diction = {}\n",
    "\n",
    "image_path = ('/Users/rurikoimai/Desktop/Mask/Mask_RCNN/samples/monkey/monkey/val/') \n",
    "roi_files = glob(image_path + '/*.csv')\n",
    "\n",
    "for roi_file in roi_files:\n",
    "    with open(roi_file) as fp:\n",
    "        roi_list = [x.strip().split(',') for x in fp.readlines()] #getting coordinates, xmin,ymin,xmax,ymax\n",
    "    image_file = roi_file[:-4]+'.png'\n",
    "    img = mpimg.imread(image_file)\n",
    "\n",
    "    # get width and height\n",
    "    height = img.shape[0]\n",
    "    width = img.shape[1]\n",
    "\n",
    "    file_name = os.path.basename(roi_file)[:-4]+'.png' #file_name\n",
    "    img_bytes = os.stat(image_file) #image_size in bytes\n",
    "    image_id = str(file_name) + str(img_bytes.st_size) #file_name + image_bytes\n",
    "    REGION = {}\n",
    "    for i in range(len(roi_list)):\n",
    "        dic = {str(i):\n",
    "               {\"shape_attributes\":\n",
    "                {\"name\":\"polygons\",\"x\":[float(roi_list[i][0]),float(roi_list[i][2])],\"y\":[float(roi_list[i][1]),float(roi_list[i][3])],\"height\": height,\"width\": width},\n",
    "                \"region_attributes\":{}\n",
    "               }\n",
    "              }\n",
    "        extra = dict(dic)\n",
    "        REGION.update(extra)\n",
    "    KEY = image_id\n",
    "    VALUES2 = dict(fileref=\"\", size=img_bytes.st_size, filename=file_name, base64_img_data=\"\", file_attributes={}, regions=REGION)\n",
    "    diction[KEY] = VALUES2\n",
    "\n",
    "print(diction)"
   ]
  },
  {
   "cell_type": "code",
   "execution_count": 25,
   "metadata": {},
   "outputs": [],
   "source": [
    "#outfile = image_path + 'via_region_data.json'\n",
    "with open('via_region_data.json', 'w') as outfile:\n",
    "    json.dump(diction, outfile)"
   ]
  },
  {
   "cell_type": "code",
   "execution_count": null,
   "metadata": {},
   "outputs": [],
   "source": []
  }
 ],
 "metadata": {
  "kernelspec": {
   "display_name": "Python 3",
   "language": "python",
   "name": "python3"
  },
  "language_info": {
   "codemirror_mode": {
    "name": "ipython",
    "version": 3
   },
   "file_extension": ".py",
   "mimetype": "text/x-python",
   "name": "python",
   "nbconvert_exporter": "python",
   "pygments_lexer": "ipython3",
   "version": "3.6.5"
  }
 },
 "nbformat": 4,
 "nbformat_minor": 2
}
